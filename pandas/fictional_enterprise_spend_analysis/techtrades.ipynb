{
 "cells": [
  {
   "cell_type": "code",
   "execution_count": 1100,
   "metadata": {},
   "outputs": [],
   "source": [
    "# Import all required libraries\n",
    "\n",
    "import pandas as pd\n",
    "import io\n",
    "import requests\n",
    "import numpy as np\n",
    "import os                     "
   ]
  },
  {
   "cell_type": "code",
   "execution_count": 1101,
   "metadata": {},
   "outputs": [],
   "source": [
    "# Reading the CSV files with transactions, costcenter data, etc.\n",
    "\n",
    "pcard_data_2017_file = 'enterprise_data/2017pcard_data.csv'\n",
    "pcard_data_2017 = pd.read_csv(pcard_data_2017_file)\n"
   ]
  },
  {
   "cell_type": "code",
   "execution_count": 1102,
   "metadata": {},
   "outputs": [],
   "source": [
    "# Finding costcenters which are not present in costcenter column in techtrades_2016_data_input_CC.csv  2016,2017 if any:\n",
    "\n",
    "costcenter_data = pd.read_csv('enterprise_data/techtrades_2016_data_input_CC.csv')\n",
    "costcenter_join = pcard_data_2017['costcenter'].isin(costcenter_data['costcenter'])\n",
    "missing_costcenters = costcenter_join[costcenter_join == False]"
   ]
  },
  {
   "cell_type": "code",
   "execution_count": 1103,
   "metadata": {},
   "outputs": [],
   "source": [
    "pcard_data_2016_file = 'enterprise_data/2016pcard_data.csv'\n",
    "pcard_data_2016 = pd.read_csv(pcard_data_2017_file)\n",
    "costcenter_data = pd.read_csv('enterprise_data/techtrades_2016_data_input_CC.csv')\n",
    "costcenter_pcard_2016 = pcard_data_2016['costcenter'].isin(costcenter_data['costcenter'])\n"
   ]
  },
  {
   "cell_type": "code",
   "execution_count": 1104,
   "metadata": {},
   "outputs": [],
   "source": [
    "missing_costcenters_2016 = costcenter_pcard_2016[costcenter_pcard_2016 == False]\n"
   ]
  },
  {
   "cell_type": "code",
   "execution_count": 1105,
   "metadata": {},
   "outputs": [],
   "source": [
    "# Finding accountname which are not present in account column in techtrades_accounts.csv for 2016,2017 if any:\n",
    "\n",
    "pcard_data_2017_file = 'enterprise_data/2017pcard_data.csv'\n",
    "pcard_data_2017 = pd.read_csv(pcard_data_2017_file)\n",
    "expensetype_data = pd.read_csv('enterprise_data/techtrades_accounts.csv')\n",
    "expensetype_join = pcard_data_2017['ExpenseType'].isin(expensetype_data['accountname'])\n"
   ]
  },
  {
   "cell_type": "code",
   "execution_count": 1106,
   "metadata": {},
   "outputs": [],
   "source": [
    "# Concatenating three techtrades transaction file of the year 2015,2016,2017 in merged_data.csv file\n",
    "\n",
    "techtrades_2015 = pd.read_csv('enterprise_data/2015pcard_data.csv')\n",
    "techtrades_2015.columns = map(str.lower, techtrades_2015.columns)\n",
    "techtrades_2016 = pd.read_csv('enterprise_data/2016pcard_data.csv')\n",
    "techtrades_2016.columns = map(str.lower, techtrades_2016.columns)\n",
    "techtrades_2017 = pd.read_csv('enterprise_data/2017pcard_data.csv')\n",
    "techtrades_2017.columns = map(str.lower, techtrades_2017.columns)\n",
    "merged_data = pd.concat([techtrades_2015,techtrades_2016,techtrades_2017])\n",
    "merged_data.to_csv('enterprise_data/merged_data.csv')\n"
   ]
  },
  {
   "cell_type": "code",
   "execution_count": 1107,
   "metadata": {},
   "outputs": [],
   "source": [
    "# Finding unique supplier name from the meged data\n",
    "\n",
    "unique_suppliers = merged_data.vendor.unique()\n"
   ]
  },
  {
   "cell_type": "code",
   "execution_count": 1108,
   "metadata": {},
   "outputs": [],
   "source": [
    "columns_new =['supplier_name']\n",
    "df = pd.DataFrame(unique_suppliers, columns=columns_new)\n"
   ]
  },
  {
   "cell_type": "code",
   "execution_count": 1109,
   "metadata": {},
   "outputs": [],
   "source": [
    "# Exporting unique suppier name in unique_suppliers.csv\n",
    "\n",
    "unique_suppliers_csv = df.to_csv('enterprise_data/unique_suppliers.csv',index=True)"
   ]
  },
  {
   "cell_type": "code",
   "execution_count": 1110,
   "metadata": {},
   "outputs": [],
   "source": [
    "# Creating a dict with original_supplier as key and parent_supplier as values from unique_suppliers_csv\n",
    "\n",
    "df = pd.read_csv('enterprise_data/parent_supplier_mapping.csv')\n",
    "supplier_mapping_dict = dict(zip(df.original_supplier, df.parent_supplier))\n"
   ]
  },
  {
   "cell_type": "code",
   "execution_count": 1111,
   "metadata": {},
   "outputs": [],
   "source": [
    "# Creating a dataframe of the merged data with the parent supplier name \n",
    "\n",
    "merged_data_with_parent_supplier = pd.DataFrame(merged_data)"
   ]
  },
  {
   "cell_type": "code",
   "execution_count": 1112,
   "metadata": {},
   "outputs": [],
   "source": [
    "# Mapping the merged data where column name is 'vendor' with the supplier mapping dict\n",
    "#Removing duplicate transaction\n",
    "\n",
    "merged_data_with_parent_supplier['parent_supplier_name'] = merged_data_with_parent_supplier['vendor'].map(lambda x: supplier_mapping_dict.get(x, x))\n",
    "\n",
    "merged_data_with_parent_supplier.drop_duplicates(keep=False, inplace=True)"
   ]
  },
  {
   "cell_type": "code",
   "execution_count": 1113,
   "metadata": {},
   "outputs": [],
   "source": [
    "# Exporting merged_data_with_parent_supplier to a csv file\n",
    "\n",
    "merged_data_with_parent_supplier.to_csv('enterprise_data/merged_data_with_parent_supplier.csv',index=True)"
   ]
  },
  {
   "cell_type": "code",
   "execution_count": 1114,
   "metadata": {},
   "outputs": [],
   "source": [
    "# Importing datatime package\n",
    "\n",
    "import datetime as dt\n"
   ]
  },
  {
   "cell_type": "code",
   "execution_count": 1115,
   "metadata": {},
   "outputs": [
    {
     "name": "stderr",
     "output_type": "stream",
     "text": [
      "/Users/satadipa/Library/Python/3.7/lib/python/site-packages/ipykernel_launcher.py:6: FutureWarning: Comparing Series of datetimes with 'datetime.date'.  Currently, the\n",
      "'datetime.date' is coerced to a datetime. In the future pandas will\n",
      "not coerce, and a TypeError will be raised. To retain the current\n",
      "behavior, convert the 'datetime.date' to a datetime with\n",
      "'pd.Timestamp'.\n",
      "  \n",
      "/Users/satadipa/Library/Python/3.7/lib/python/site-packages/ipykernel_launcher.py:7: FutureWarning: Comparing Series of datetimes with 'datetime.date'.  Currently, the\n",
      "'datetime.date' is coerced to a datetime. In the future pandas will\n",
      "not coerce, and a TypeError will be raised. To retain the current\n",
      "behavior, convert the 'datetime.date' to a datetime with\n",
      "'pd.Timestamp'.\n",
      "  import sys\n"
     ]
    }
   ],
   "source": [
    "# Filtering transaction data of the year 2017 from the merged data \n",
    "\n",
    "merged_data_with_parent_supplier['transaction_date'] = pd.to_datetime(merged_data_with_parent_supplier['transactiondate'])\n",
    "end_date_2016 = dt.datetime.strptime('31122016', \"%d%m%Y\").date()\n",
    "start_date_2018 = dt.datetime.strptime('01012018', \"%d%m%Y\").date()\n",
    "transactions_2017 = merged_data_with_parent_supplier[merged_data_with_parent_supplier['transaction_date'] > end_date_2016]\n",
    "transactions_2017 = transactions_2017[transactions_2017['transaction_date'] < start_date_2018]"
   ]
  },
  {
   "cell_type": "code",
   "execution_count": 1116,
   "metadata": {},
   "outputs": [],
   "source": [
    "# Grouping 2017 transaction data by parent_supplier_name\n",
    "\n",
    "transactions_2017_grouped_vendor = transactions_2017.groupby(['parent_supplier_name']).sum()"
   ]
  },
  {
   "cell_type": "code",
   "execution_count": 1117,
   "metadata": {},
   "outputs": [],
   "source": [
    "# Finding the top 10 suppliers on transaction amount\n",
    "\n",
    "top_10_suppliers_2017 = transactions_2017_grouped_vendor.nlargest(10,'amount')\n"
   ]
  },
  {
   "cell_type": "code",
   "execution_count": 1118,
   "metadata": {},
   "outputs": [],
   "source": [
    "# Converting the total amount to two decimal places\n",
    "\n",
    "top_10_suppliers_2017['total_amount'] = top_10_suppliers_2017['amount'].apply(lambda x: '{:.2f}'.format(x))\n",
    "del top_10_suppliers_2017['amount'] \n",
    "del top_10_suppliers_2017['account'] \n",
    "del top_10_suppliers_2017['merchantcode']\n",
    "del top_10_suppliers_2017['bu']"
   ]
  },
  {
   "cell_type": "code",
   "execution_count": 1119,
   "metadata": {},
   "outputs": [
    {
     "data": {
      "text/html": [
       "<div>\n",
       "<style scoped>\n",
       "    .dataframe tbody tr th:only-of-type {\n",
       "        vertical-align: middle;\n",
       "    }\n",
       "\n",
       "    .dataframe tbody tr th {\n",
       "        vertical-align: top;\n",
       "    }\n",
       "\n",
       "    .dataframe thead th {\n",
       "        text-align: right;\n",
       "    }\n",
       "</style>\n",
       "<table border=\"1\" class=\"dataframe\">\n",
       "  <thead>\n",
       "    <tr style=\"text-align: right;\">\n",
       "      <th></th>\n",
       "      <th>total_amount</th>\n",
       "    </tr>\n",
       "    <tr>\n",
       "      <th>parent_supplier_name</th>\n",
       "      <th></th>\n",
       "    </tr>\n",
       "  </thead>\n",
       "  <tbody>\n",
       "    <tr>\n",
       "      <th>IBM</th>\n",
       "      <td>4948665.33</td>\n",
       "    </tr>\n",
       "    <tr>\n",
       "      <th>CDW Direct</th>\n",
       "      <td>4087333.67</td>\n",
       "    </tr>\n",
       "    <tr>\n",
       "      <th>Apple,Inc</th>\n",
       "      <td>2415929.51</td>\n",
       "    </tr>\n",
       "    <tr>\n",
       "      <th>Microsoft</th>\n",
       "      <td>2271565.45</td>\n",
       "    </tr>\n",
       "    <tr>\n",
       "      <th>SMART IMS, INC</th>\n",
       "      <td>1949422.27</td>\n",
       "    </tr>\n",
       "    <tr>\n",
       "      <th>CENTURYLINK</th>\n",
       "      <td>1855932.63</td>\n",
       "    </tr>\n",
       "    <tr>\n",
       "      <th>Amazon AWS</th>\n",
       "      <td>1799157.23</td>\n",
       "    </tr>\n",
       "    <tr>\n",
       "      <th>Oracle, Inc.</th>\n",
       "      <td>1529637.48</td>\n",
       "    </tr>\n",
       "    <tr>\n",
       "      <th>DataArt Solutions, Inc</th>\n",
       "      <td>1407071.89</td>\n",
       "    </tr>\n",
       "    <tr>\n",
       "      <th>SALESFORCE.COM, INC.</th>\n",
       "      <td>1397393.13</td>\n",
       "    </tr>\n",
       "  </tbody>\n",
       "</table>\n",
       "</div>"
      ],
      "text/plain": [
       "                       total_amount\n",
       "parent_supplier_name               \n",
       "IBM                      4948665.33\n",
       "CDW Direct               4087333.67\n",
       "Apple,Inc                2415929.51\n",
       "Microsoft                2271565.45\n",
       "SMART IMS, INC           1949422.27\n",
       "CENTURYLINK              1855932.63\n",
       "Amazon AWS               1799157.23\n",
       "Oracle, Inc.             1529637.48\n",
       "DataArt Solutions, Inc   1407071.89\n",
       "SALESFORCE.COM, INC.     1397393.13"
      ]
     },
     "execution_count": 1119,
     "metadata": {},
     "output_type": "execute_result"
    }
   ],
   "source": [
    "# Exporting the top 10 suppliers to a csv file \n",
    "\n",
    "top_10_suppliers_2017.to_csv('enterprise_data/top_10_suppliers_2017.csv')\n",
    "top_10_suppliers_2017"
   ]
  },
  {
   "cell_type": "code",
   "execution_count": 1120,
   "metadata": {},
   "outputs": [
    {
     "data": {
      "text/html": [
       "<div>\n",
       "<style scoped>\n",
       "    .dataframe tbody tr th:only-of-type {\n",
       "        vertical-align: middle;\n",
       "    }\n",
       "\n",
       "    .dataframe tbody tr th {\n",
       "        vertical-align: top;\n",
       "    }\n",
       "\n",
       "    .dataframe thead th {\n",
       "        text-align: right;\n",
       "    }\n",
       "</style>\n",
       "<table border=\"1\" class=\"dataframe\">\n",
       "  <thead>\n",
       "    <tr style=\"text-align: right;\">\n",
       "      <th></th>\n",
       "      <th>bu</th>\n",
       "      <th>total_amount</th>\n",
       "      <th>business_unit_name</th>\n",
       "    </tr>\n",
       "  </thead>\n",
       "  <tbody>\n",
       "    <tr>\n",
       "      <th>0</th>\n",
       "      <td>100</td>\n",
       "      <td>26639947.48</td>\n",
       "      <td>Techtrades, Inc. (HQ)</td>\n",
       "    </tr>\n",
       "  </tbody>\n",
       "</table>\n",
       "</div>"
      ],
      "text/plain": [
       "    bu total_amount     business_unit_name\n",
       "0  100  26639947.48  Techtrades, Inc. (HQ)"
      ]
     },
     "execution_count": 1120,
     "metadata": {},
     "output_type": "execute_result"
    }
   ],
   "source": [
    "# Finding the business unit which was the top spender in 2017\n",
    "\n",
    "transactions_2017_grouped_bu = transactions_2017.groupby(['bu']).sum()\n",
    "top_bu_2017 = transactions_2017_grouped_bu.nlargest(1,'amount')\n",
    "top_bu_2017['total_amount'] = top_bu_2017['amount'].apply(lambda x: '{:.2f}'.format(x))\n",
    "del top_bu_2017['amount'] \n",
    "del top_bu_2017['merchantcode'] \n",
    "del top_bu_2017['account'] \n",
    "all_bu = pd.read_csv('enterprise_data/techtrades_bu.csv')\n",
    "bu_mapping_dict = dict(zip(all_bu.buid, all_bu.name))\n",
    "top_bu_2017_df = pd.DataFrame(top_bu_2017)\n",
    "top_bu_2017_df = top_bu_2017_df.reset_index()\n",
    "top_bu_2017_df['business_unit_name'] = top_bu_2017_df['bu'].map(lambda x: bu_mapping_dict.get(x))\n",
    "top_bu_2017_df.to_csv('enterprise_data/top_bu_2017.csv')\n",
    "top_bu_2017_df"
   ]
  },
  {
   "cell_type": "code",
   "execution_count": 1121,
   "metadata": {},
   "outputs": [
    {
     "name": "stderr",
     "output_type": "stream",
     "text": [
      "/Users/satadipa/Library/Python/3.7/lib/python/site-packages/ipykernel_launcher.py:5: FutureWarning: Comparing Series of datetimes with 'datetime.date'.  Currently, the\n",
      "'datetime.date' is coerced to a datetime. In the future pandas will\n",
      "not coerce, and a TypeError will be raised. To retain the current\n",
      "behavior, convert the 'datetime.date' to a datetime with\n",
      "'pd.Timestamp'.\n",
      "  \"\"\"\n",
      "/Users/satadipa/Library/Python/3.7/lib/python/site-packages/ipykernel_launcher.py:6: FutureWarning: Comparing Series of datetimes with 'datetime.date'.  Currently, the\n",
      "'datetime.date' is coerced to a datetime. In the future pandas will\n",
      "not coerce, and a TypeError will be raised. To retain the current\n",
      "behavior, convert the 'datetime.date' to a datetime with\n",
      "'pd.Timestamp'.\n",
      "  \n",
      "/Users/satadipa/Library/Python/3.7/lib/python/site-packages/ipykernel_launcher.py:10: FutureWarning: Comparing Series of datetimes with 'datetime.date'.  Currently, the\n",
      "'datetime.date' is coerced to a datetime. In the future pandas will\n",
      "not coerce, and a TypeError will be raised. To retain the current\n",
      "behavior, convert the 'datetime.date' to a datetime with\n",
      "'pd.Timestamp'.\n",
      "  # Remove the CWD from sys.path while we load stuff.\n",
      "/Users/satadipa/Library/Python/3.7/lib/python/site-packages/ipykernel_launcher.py:11: FutureWarning: Comparing Series of datetimes with 'datetime.date'.  Currently, the\n",
      "'datetime.date' is coerced to a datetime. In the future pandas will\n",
      "not coerce, and a TypeError will be raised. To retain the current\n",
      "behavior, convert the 'datetime.date' to a datetime with\n",
      "'pd.Timestamp'.\n",
      "  # This is added back by InteractiveShellApp.init_path()\n"
     ]
    }
   ],
   "source": [
    "# Filtering transaction data of the year 2016 from the merged data \n",
    "\n",
    "end_date_2015 = dt.datetime.strptime('31122015', \"%d%m%Y\").date()\n",
    "start_date_2017 = dt.datetime.strptime('01012017', \"%d%m%Y\").date()\n",
    "transactions_2016 = merged_data_with_parent_supplier[merged_data_with_parent_supplier['transaction_date'] > end_date_2015]\n",
    "transactions_2016 = transactions_2016[transactions_2016['transaction_date'] < start_date_2017]\n",
    "\n",
    "end_date_2014 = dt.datetime.strptime('31122014', \"%d%m%Y\").date()\n",
    "start_date_2016 = dt.datetime.strptime('01012016', \"%d%m%Y\").date()\n",
    "transactions_2015 = merged_data_with_parent_supplier[merged_data_with_parent_supplier['transaction_date'] > end_date_2014]\n",
    "transactions_2015 = transactions_2015[transactions_2015['transaction_date'] < start_date_2016]"
   ]
  },
  {
   "cell_type": "code",
   "execution_count": 1122,
   "metadata": {},
   "outputs": [],
   "source": [
    "# Grouping 2017 transaction data by parent_supplier_name\n",
    "\n",
    "transactions_2016_grouped_vendor = transactions_2016.groupby(['parent_supplier_name']).sum()\n"
   ]
  },
  {
   "cell_type": "code",
   "execution_count": 1123,
   "metadata": {},
   "outputs": [],
   "source": [
    "# Finding the top 10 suppliers on transaction amount\n",
    "top_10_suppliers_2016 = transactions_2016_grouped_vendor.nlargest(10,'amount')\n"
   ]
  },
  {
   "cell_type": "code",
   "execution_count": 1124,
   "metadata": {},
   "outputs": [],
   "source": [
    "# Converting the total amount to two decimal places\n",
    "\n",
    "top_10_suppliers_2016['total_amount'] = top_10_suppliers_2016['amount'].apply(lambda x: '{:.2f}'.format(x))\n",
    "del top_10_suppliers_2016['amount'] \n",
    "del top_10_suppliers_2016['merchantcode'] \n",
    "del top_10_suppliers_2016['bu'] \n",
    "del top_10_suppliers_2016['account'] \n",
    "top_10_suppliers_2016\n",
    "top_10_suppliers_2016.to_csv('enterprise_data/top_10_suppliers_2016.csv')"
   ]
  },
  {
   "cell_type": "code",
   "execution_count": 1125,
   "metadata": {},
   "outputs": [],
   "source": [
    "top_10_suppliers_2016_index = top_10_suppliers_2016.reset_index()\n"
   ]
  },
  {
   "cell_type": "code",
   "execution_count": 1126,
   "metadata": {},
   "outputs": [],
   "source": [
    "# Plotting top 10 suppliers for 2016\n",
    "\n",
    "plot_suppliers_2016 = dict(zip(top_10_suppliers_2016_index.parent_supplier_name, top_10_suppliers_2016_index.total_amount))\n",
    "x_axis = list(plot_suppliers_2016.keys())\n",
    "y_axis = [float(x) for x in plot_suppliers_2016.values()]"
   ]
  },
  {
   "cell_type": "code",
   "execution_count": 1127,
   "metadata": {},
   "outputs": [
    {
     "data": {
      "image/png": "[encoded data removed]",
      "text/plain": [
       "<Figure size 432x288 with 1 Axes>"
      ]
     },
     "metadata": {
      "needs_background": "light"
     },
     "output_type": "display_data"
    }
   ],
   "source": [
    "import matplotlib.pyplot as plt\n",
    "plt.bar(x_axis, y_axis, color='g')\n",
    "plt.title('Top 10 Suppliers 2016')\n",
    "plt.xticks(rotation='vertical')\n",
    "plt.savefig('/tmp/top_10_suppliers_2016.png')\n",
    "plt.show()\n"
   ]
  },
  {
   "cell_type": "code",
   "execution_count": 1128,
   "metadata": {},
   "outputs": [],
   "source": [
    "# Plotting top 10 suppliers for 2017\n",
    "\n",
    "top_10_suppliers_2017_index = top_10_suppliers_2017.reset_index()\n",
    "plot_suppliers_2017 = dict(zip(top_10_suppliers_2017_index.parent_supplier_name, top_10_suppliers_2017_index.total_amount))\n",
    "x_axis = list(plot_suppliers_2017.keys())\n",
    "y_axis = [float(x) for x in plot_suppliers_2017.values()]"
   ]
  },
  {
   "cell_type": "code",
   "execution_count": 1129,
   "metadata": {},
   "outputs": [
    {
     "data": {
      "image/png": "[encoded data removed]",
      "text/plain": [
       "<Figure size 432x288 with 1 Axes>"
      ]
     },
     "metadata": {
      "needs_background": "light"
     },
     "output_type": "display_data"
    }
   ],
   "source": [
    "import matplotlib.pyplot as plt\n",
    "plt.bar(x_axis, y_axis, color='g')\n",
    "plt.title('Top 10 Suppliers 2017')\n",
    "plt.xticks(rotation='vertical')\n",
    "plt.savefig('/tmp/top_10_suppliers_2017.png')\n",
    "plt.show()"
   ]
  },
  {
   "cell_type": "code",
   "execution_count": 1130,
   "metadata": {},
   "outputs": [
    {
     "data": {
      "text/plain": [
       "350276"
      ]
     },
     "execution_count": 1130,
     "metadata": {},
     "output_type": "execute_result"
    }
   ],
   "source": [
    "# Total count of the transactions in 2016\n",
    "\n",
    "transactions_2016['transactionid'].count()\n"
   ]
  },
  {
   "cell_type": "code",
   "execution_count": 1131,
   "metadata": {},
   "outputs": [
    {
     "data": {
      "text/plain": [
       "211615"
      ]
     },
     "execution_count": 1131,
     "metadata": {},
     "output_type": "execute_result"
    }
   ],
   "source": [
    "# Total count of the transactions in 2017\n",
    "\n",
    "transactions_2017['transactionid'].count()"
   ]
  },
  {
   "cell_type": "code",
   "execution_count": 1132,
   "metadata": {},
   "outputs": [
    {
     "data": {
      "text/plain": [
       "401455"
      ]
     },
     "execution_count": 1132,
     "metadata": {},
     "output_type": "execute_result"
    }
   ],
   "source": [
    "# Total count of the transactions in 2017\n",
    "\n",
    "transactions_2015['transactionid'].count()"
   ]
  },
  {
   "cell_type": "code",
   "execution_count": 1133,
   "metadata": {},
   "outputs": [],
   "source": [
    "# Filterng the top three bu's who spent the maximum on the top 10 suppliers 2017\n",
    "\n",
    "groupby_column = 'bu'\n",
    "transactions_supplier_bu_2017 = pd.DataFrame()\n",
    "for supp in list(top_10_suppliers_2017.index):\n",
    "    transactions_2017_bu = transactions_2017.loc[transactions_2017['parent_supplier_name'] == supp]\n",
    "    transactions_2017_grouped_bu = transactions_2017_ibm.groupby([groupby_column]).sum()\n",
    "    transactions_2017_grouped_bu['total_amount'] = transactions_2017_grouped_bu['amount'].apply(lambda x: '{:.2f}'.format(x))\n",
    "    del transactions_2017_grouped_bu['amount'] \n",
    "    transactions_2017_grouped_bu['supplier_name'] = supp\n",
    "    transactions_2017_grouped_bu = transactions_2017_grouped_bu.reset_index()\n",
    "    transactions_2017_grouped_bu.sort_values(by=('total_amount'))\n",
    "    transactions_supplier_bu_2017 = pd.concat([transactions_supplier_bu_2017, transactions_2017_grouped_bu.head(3)])\n",
    "transactions_supplier_bu_2017\n",
    "transactions_supplier_bu_2017.to_csv('enterprise_data/transactions_supplier_bu_2017.csv')"
   ]
  },
  {
   "cell_type": "code",
   "execution_count": 1134,
   "metadata": {},
   "outputs": [],
   "source": [
    "# Filterng the top three bu's who spent the maximum on the top 10 suppliers 2016\n",
    "groupby_column = 'bu'\n",
    "transactions_supplier_bu_2016 = pd.DataFrame()\n",
    "for supp in list(top_10_suppliers_2016.index):\n",
    "    transactions_2016_bu = transactions_2016.loc[transactions_2016['parent_supplier_name'] == supp]\n",
    "    transactions_2016_grouped_bu = transactions_2016_ibm.groupby([groupby_column]).sum()\n",
    "    transactions_2016_grouped_bu['total_amount'] = transactions_2016_grouped_bu['amount'].apply(lambda x: '{:.2f}'.format(x))\n",
    "    del transactions_2016_grouped_bu['amount'] \n",
    "    transactions_2016_grouped_bu['supplier_name'] = supp\n",
    "    transactions_2016_grouped_bu = transactions_2016_grouped_bu.reset_index()\n",
    "    transactions_2016_grouped_bu.sort_values(by=('total_amount'))\n",
    "    transactions_supplier_bu_2016 = pd.concat([transactions_supplier_bu_2016, transactions_2016_grouped_bu.head(3)])\n",
    "transactions_supplier_bu_2016\n",
    "transactions_supplier_bu_2016.to_csv('enterprise_data/transactions_supplier_bu_2016.csv')"
   ]
  },
  {
   "cell_type": "code",
   "execution_count": 1135,
   "metadata": {},
   "outputs": [],
   "source": [
    "# Filterng the top three costcenter who spent the maximum on the top 10 suppliers 2016\n",
    "\n",
    "groupby_column = 'costcenter'\n",
    "transactions_supplier_costcenter_2016 = pd.DataFrame()\n",
    "for supp in list(top_10_suppliers_2016.index):\n",
    "    transactions_2016_costcenter = transactions_2016.loc[transactions_2016['parent_supplier_name'] == supp]\n",
    "    transactions_2016_grouped_costcenter = transactions_2016_costcenter.groupby([groupby_column]).sum()\n",
    "    transactions_2016_grouped_costcenter['total_amount'] = transactions_2016_grouped_costcenter['amount'].apply(lambda x: '{:.2f}'.format(x))\n",
    "    del transactions_2016_grouped_costcenter['amount'] \n",
    "    transactions_2016_grouped_costcenter['supplier_name'] = supp\n",
    "    transactions_2016_grouped_costcenter = transactions_2016_grouped_costcenter.reset_index()\n",
    "    transactions_2016_grouped_costcenter.sort_values(by=('total_amount'))\n",
    "    transactions_supplier_costcenter_2016 = pd.concat([transactions_supplier_costcenter_2016, transactions_2016_grouped_costcenter.head(3)])\n",
    "transactions_supplier_costcenter_2016\n",
    "transactions_supplier_costcenter_2016.to_csv('enterprise_data/transactions_supplier_costcenter_2016.csv')"
   ]
  },
  {
   "cell_type": "code",
   "execution_count": 1136,
   "metadata": {},
   "outputs": [],
   "source": [
    "# Filterng the top three costcenter who spent the maximum on the top 10 suppliers 2017\n",
    "\n",
    "groupby_column = 'costcenter'\n",
    "transactions_supplier_costcenter_2017 = pd.DataFrame()\n",
    "for supp in list(top_10_suppliers_2017.index):\n",
    "    transactions_2017_costcenter = transactions_2017.loc[transactions_2017['parent_supplier_name'] == supp]\n",
    "    transactions_2017_grouped_costcenter = transactions_2017_costcenter.groupby([groupby_column]).sum()\n",
    "    transactions_2017_grouped_costcenter['total_amount'] = transactions_2017_grouped_costcenter['amount'].apply(lambda x: '{:.2f}'.format(x))\n",
    "    del transactions_2017_grouped_costcenter['amount'] \n",
    "    transactions_2017_grouped_costcenter['supplier_name'] = supp\n",
    "    transactions_2017_grouped_costcenter = transactions_2017_grouped_costcenter.reset_index()\n",
    "    transactions_2017_grouped_costcenter.sort_values(by=('total_amount'))\n",
    "    transactions_supplier_costcenter_2017 = pd.concat([transactions_supplier_costcenter_2017, transactions_2017_grouped_costcenter.head(3)])\n",
    "transactions_supplier_costcenter_2017\n",
    "transactions_supplier_costcenter_2017.to_csv('enterprise_data/transactions_supplier_costcenter_2017.csv')\n"
   ]
  },
  {
   "cell_type": "code",
   "execution_count": 1137,
   "metadata": {},
   "outputs": [],
   "source": [
    "# Filterng the top three expensetype who spent the maximum on the top 10 suppliers 2017\n",
    "\n",
    "groupby_column = 'expensetype'\n",
    "transactions_supplier_expensetype_2017 = pd.DataFrame()\n",
    "\n",
    "for supp in list(top_10_suppliers_2017.index):\n",
    "    transactions_2017_expensetype = transactions_2017.loc[transactions_2017['parent_supplier_name'] == supp]\n",
    "    transactions_2017_grouped_expensetype = transactions_2017_expensetype.groupby([groupby_column]).sum()\n",
    "    transactions_2017_grouped_expensetype['total_amount'] = transactions_2017_grouped_expensetype['amount'].apply(lambda x: '{:.2f}'.format(x))\n",
    "    del transactions_2017_grouped_expensetype['amount'] \n",
    "    transactions_2017_grouped_expensetype['supplier_name'] = supp\n",
    "    transactions_2017_grouped_expensetype = transactions_2017_grouped_expensetype.reset_index()\n",
    "    transactions_2017_grouped_expensetype.sort_values(by=('total_amount'))\n",
    "    transactions_supplier_expensetype_2017 = pd.concat([transactions_supplier_expensetype_2017, transactions_2017_grouped_expensetype.head(3)])\n",
    "transactions_supplier_expensetype_2017\n",
    "transactions_supplier_expensetype_2017.to_csv('enterprise_data/transactions_supplier_expensetype_2017.csv')"
   ]
  },
  {
   "cell_type": "code",
   "execution_count": 1138,
   "metadata": {},
   "outputs": [
    {
     "data": {
      "text/html": [
       "<div>\n",
       "<style scoped>\n",
       "    .dataframe tbody tr th:only-of-type {\n",
       "        vertical-align: middle;\n",
       "    }\n",
       "\n",
       "    .dataframe tbody tr th {\n",
       "        vertical-align: top;\n",
       "    }\n",
       "\n",
       "    .dataframe thead th {\n",
       "        text-align: right;\n",
       "    }\n",
       "</style>\n",
       "<table border=\"1\" class=\"dataframe\">\n",
       "  <thead>\n",
       "    <tr style=\"text-align: right;\">\n",
       "      <th></th>\n",
       "      <th>expensetype</th>\n",
       "      <th>merchantcode</th>\n",
       "      <th>bu</th>\n",
       "      <th>account</th>\n",
       "      <th>total_amount</th>\n",
       "      <th>supplier_name</th>\n",
       "    </tr>\n",
       "  </thead>\n",
       "  <tbody>\n",
       "    <tr>\n",
       "      <th>0</th>\n",
       "      <td>IT Hardware Desktops</td>\n",
       "      <td>326538</td>\n",
       "      <td>620</td>\n",
       "      <td>51666</td>\n",
       "      <td>3181.82</td>\n",
       "      <td>IBM</td>\n",
       "    </tr>\n",
       "    <tr>\n",
       "      <th>1</th>\n",
       "      <td>IT Hardware Other</td>\n",
       "      <td>451936</td>\n",
       "      <td>1110</td>\n",
       "      <td>94630</td>\n",
       "      <td>655632.44</td>\n",
       "      <td>IBM</td>\n",
       "    </tr>\n",
       "    <tr>\n",
       "      <th>2</th>\n",
       "      <td>IT Hardware Servers</td>\n",
       "      <td>180882840</td>\n",
       "      <td>164960</td>\n",
       "      <td>13948200</td>\n",
       "      <td>4866608.34</td>\n",
       "      <td>IBM</td>\n",
       "    </tr>\n",
       "    <tr>\n",
       "      <th>0</th>\n",
       "      <td>Airfare</td>\n",
       "      <td>811410</td>\n",
       "      <td>3980</td>\n",
       "      <td>292740</td>\n",
       "      <td>14032.51</td>\n",
       "      <td>CDW Direct</td>\n",
       "    </tr>\n",
       "    <tr>\n",
       "      <th>1</th>\n",
       "      <td>Building Maintenance</td>\n",
       "      <td>489246</td>\n",
       "      <td>1200</td>\n",
       "      <td>86336</td>\n",
       "      <td>1332.43</td>\n",
       "      <td>CDW Direct</td>\n",
       "    </tr>\n",
       "    <tr>\n",
       "      <th>2</th>\n",
       "      <td>Building Suppliles</td>\n",
       "      <td>1535344</td>\n",
       "      <td>5120</td>\n",
       "      <td>279680</td>\n",
       "      <td>74542.43</td>\n",
       "      <td>CDW Direct</td>\n",
       "    </tr>\n",
       "    <tr>\n",
       "      <th>0</th>\n",
       "      <td>IT Services</td>\n",
       "      <td>52477</td>\n",
       "      <td>100</td>\n",
       "      <td>8640</td>\n",
       "      <td>231526.00</td>\n",
       "      <td>Oracle, Inc.</td>\n",
       "    </tr>\n",
       "    <tr>\n",
       "      <th>1</th>\n",
       "      <td>IT Software</td>\n",
       "      <td>472293</td>\n",
       "      <td>960</td>\n",
       "      <td>77670</td>\n",
       "      <td>3660673.00</td>\n",
       "      <td>Oracle, Inc.</td>\n",
       "    </tr>\n",
       "    <tr>\n",
       "      <th>0</th>\n",
       "      <td>Advertisement</td>\n",
       "      <td>200601</td>\n",
       "      <td>1230</td>\n",
       "      <td>80520</td>\n",
       "      <td>3092.27</td>\n",
       "      <td>SALESFORCE.COM, INC.</td>\n",
       "    </tr>\n",
       "    <tr>\n",
       "      <th>1</th>\n",
       "      <td>Airfare</td>\n",
       "      <td>135268103</td>\n",
       "      <td>879280</td>\n",
       "      <td>70033740</td>\n",
       "      <td>1705058.94</td>\n",
       "      <td>SALESFORCE.COM, INC.</td>\n",
       "    </tr>\n",
       "    <tr>\n",
       "      <th>2</th>\n",
       "      <td>Building Maintenance</td>\n",
       "      <td>187080</td>\n",
       "      <td>700</td>\n",
       "      <td>43600</td>\n",
       "      <td>1912.29</td>\n",
       "      <td>SALESFORCE.COM, INC.</td>\n",
       "    </tr>\n",
       "    <tr>\n",
       "      <th>0</th>\n",
       "      <td>Equipment Mantenance and Repair</td>\n",
       "      <td>143664</td>\n",
       "      <td>870</td>\n",
       "      <td>68250</td>\n",
       "      <td>35071.25</td>\n",
       "      <td>Apple,Inc</td>\n",
       "    </tr>\n",
       "    <tr>\n",
       "      <th>1</th>\n",
       "      <td>Freight Cost</td>\n",
       "      <td>11764716</td>\n",
       "      <td>1290</td>\n",
       "      <td>73800</td>\n",
       "      <td>3790.66</td>\n",
       "      <td>Apple,Inc</td>\n",
       "    </tr>\n",
       "    <tr>\n",
       "      <th>2</th>\n",
       "      <td>IT Maintenance</td>\n",
       "      <td>1053998</td>\n",
       "      <td>660</td>\n",
       "      <td>51380</td>\n",
       "      <td>55458.58</td>\n",
       "      <td>Apple,Inc</td>\n",
       "    </tr>\n",
       "    <tr>\n",
       "      <th>0</th>\n",
       "      <td>Advertisement</td>\n",
       "      <td>159579</td>\n",
       "      <td>300</td>\n",
       "      <td>20130</td>\n",
       "      <td>850.51</td>\n",
       "      <td>DataArt Solutions, Inc</td>\n",
       "    </tr>\n",
       "    <tr>\n",
       "      <th>1</th>\n",
       "      <td>Hotels and Lodging</td>\n",
       "      <td>233006685</td>\n",
       "      <td>497470</td>\n",
       "      <td>38344680</td>\n",
       "      <td>2221479.86</td>\n",
       "      <td>DataArt Solutions, Inc</td>\n",
       "    </tr>\n",
       "    <tr>\n",
       "      <th>2</th>\n",
       "      <td>IT Hardware Desktops</td>\n",
       "      <td>489807</td>\n",
       "      <td>940</td>\n",
       "      <td>77499</td>\n",
       "      <td>3123.39</td>\n",
       "      <td>DataArt Solutions, Inc</td>\n",
       "    </tr>\n",
       "    <tr>\n",
       "      <th>0</th>\n",
       "      <td>Airfare</td>\n",
       "      <td>344707704</td>\n",
       "      <td>38430</td>\n",
       "      <td>3125430</td>\n",
       "      <td>217301.43</td>\n",
       "      <td>SMART IMS, INC</td>\n",
       "    </tr>\n",
       "    <tr>\n",
       "      <th>1</th>\n",
       "      <td>IT Hardware Desktops</td>\n",
       "      <td>108846</td>\n",
       "      <td>220</td>\n",
       "      <td>17222</td>\n",
       "      <td>138.76</td>\n",
       "      <td>SMART IMS, INC</td>\n",
       "    </tr>\n",
       "    <tr>\n",
       "      <th>2</th>\n",
       "      <td>Other Current Assets</td>\n",
       "      <td>54423</td>\n",
       "      <td>110</td>\n",
       "      <td>1500</td>\n",
       "      <td>1042.28</td>\n",
       "      <td>SMART IMS, INC</td>\n",
       "    </tr>\n",
       "    <tr>\n",
       "      <th>0</th>\n",
       "      <td>Advertisement</td>\n",
       "      <td>1484504</td>\n",
       "      <td>3340</td>\n",
       "      <td>221430</td>\n",
       "      <td>1812.91</td>\n",
       "      <td>Amazon AWS</td>\n",
       "    </tr>\n",
       "    <tr>\n",
       "      <th>1</th>\n",
       "      <td>Airfare</td>\n",
       "      <td>2815473</td>\n",
       "      <td>17190</td>\n",
       "      <td>1420650</td>\n",
       "      <td>3618.57</td>\n",
       "      <td>Amazon AWS</td>\n",
       "    </tr>\n",
       "    <tr>\n",
       "      <th>2</th>\n",
       "      <td>Building Maintenance</td>\n",
       "      <td>31422849</td>\n",
       "      <td>42100</td>\n",
       "      <td>3278720</td>\n",
       "      <td>27600.55</td>\n",
       "      <td>Amazon AWS</td>\n",
       "    </tr>\n",
       "    <tr>\n",
       "      <th>0</th>\n",
       "      <td>Advertisement</td>\n",
       "      <td>73982</td>\n",
       "      <td>200</td>\n",
       "      <td>13420</td>\n",
       "      <td>194.64</td>\n",
       "      <td>OFFICE DEPOT</td>\n",
       "    </tr>\n",
       "    <tr>\n",
       "      <th>1</th>\n",
       "      <td>Building Maintenance</td>\n",
       "      <td>4680352</td>\n",
       "      <td>10180</td>\n",
       "      <td>878540</td>\n",
       "      <td>7908.12</td>\n",
       "      <td>OFFICE DEPOT</td>\n",
       "    </tr>\n",
       "    <tr>\n",
       "      <th>2</th>\n",
       "      <td>Building Suppliles</td>\n",
       "      <td>26685870</td>\n",
       "      <td>29720</td>\n",
       "      <td>2574730</td>\n",
       "      <td>33856.91</td>\n",
       "      <td>OFFICE DEPOT</td>\n",
       "    </tr>\n",
       "    <tr>\n",
       "      <th>0</th>\n",
       "      <td>Airfare</td>\n",
       "      <td>60853650</td>\n",
       "      <td>377090</td>\n",
       "      <td>30780750</td>\n",
       "      <td>853230.73</td>\n",
       "      <td>Microsoft</td>\n",
       "    </tr>\n",
       "    <tr>\n",
       "      <th>1</th>\n",
       "      <td>Freight Cost</td>\n",
       "      <td>78234</td>\n",
       "      <td>360</td>\n",
       "      <td>18450</td>\n",
       "      <td>464806.12</td>\n",
       "      <td>Microsoft</td>\n",
       "    </tr>\n",
       "    <tr>\n",
       "      <th>2</th>\n",
       "      <td>IT Hardware Desktops</td>\n",
       "      <td>489807</td>\n",
       "      <td>1060</td>\n",
       "      <td>77499</td>\n",
       "      <td>6586.33</td>\n",
       "      <td>Microsoft</td>\n",
       "    </tr>\n",
       "  </tbody>\n",
       "</table>\n",
       "</div>"
      ],
      "text/plain": [
       "                       expensetype  merchantcode      bu   account  \\\n",
       "0             IT Hardware Desktops        326538     620     51666   \n",
       "1                IT Hardware Other        451936    1110     94630   \n",
       "2              IT Hardware Servers     180882840  164960  13948200   \n",
       "0                          Airfare        811410    3980    292740   \n",
       "1             Building Maintenance        489246    1200     86336   \n",
       "2               Building Suppliles       1535344    5120    279680   \n",
       "0                      IT Services         52477     100      8640   \n",
       "1                      IT Software        472293     960     77670   \n",
       "0                    Advertisement        200601    1230     80520   \n",
       "1                          Airfare     135268103  879280  70033740   \n",
       "2             Building Maintenance        187080     700     43600   \n",
       "0  Equipment Mantenance and Repair        143664     870     68250   \n",
       "1                     Freight Cost      11764716    1290     73800   \n",
       "2                   IT Maintenance       1053998     660     51380   \n",
       "0                    Advertisement        159579     300     20130   \n",
       "1               Hotels and Lodging     233006685  497470  38344680   \n",
       "2             IT Hardware Desktops        489807     940     77499   \n",
       "0                          Airfare     344707704   38430   3125430   \n",
       "1             IT Hardware Desktops        108846     220     17222   \n",
       "2             Other Current Assets         54423     110      1500   \n",
       "0                    Advertisement       1484504    3340    221430   \n",
       "1                          Airfare       2815473   17190   1420650   \n",
       "2             Building Maintenance      31422849   42100   3278720   \n",
       "0                    Advertisement         73982     200     13420   \n",
       "1             Building Maintenance       4680352   10180    878540   \n",
       "2               Building Suppliles      26685870   29720   2574730   \n",
       "0                          Airfare      60853650  377090  30780750   \n",
       "1                     Freight Cost         78234     360     18450   \n",
       "2             IT Hardware Desktops        489807    1060     77499   \n",
       "\n",
       "  total_amount           supplier_name  \n",
       "0      3181.82                     IBM  \n",
       "1    655632.44                     IBM  \n",
       "2   4866608.34                     IBM  \n",
       "0     14032.51              CDW Direct  \n",
       "1      1332.43              CDW Direct  \n",
       "2     74542.43              CDW Direct  \n",
       "0    231526.00            Oracle, Inc.  \n",
       "1   3660673.00            Oracle, Inc.  \n",
       "0      3092.27    SALESFORCE.COM, INC.  \n",
       "1   1705058.94    SALESFORCE.COM, INC.  \n",
       "2      1912.29    SALESFORCE.COM, INC.  \n",
       "0     35071.25               Apple,Inc  \n",
       "1      3790.66               Apple,Inc  \n",
       "2     55458.58               Apple,Inc  \n",
       "0       850.51  DataArt Solutions, Inc  \n",
       "1   2221479.86  DataArt Solutions, Inc  \n",
       "2      3123.39  DataArt Solutions, Inc  \n",
       "0    217301.43          SMART IMS, INC  \n",
       "1       138.76          SMART IMS, INC  \n",
       "2      1042.28          SMART IMS, INC  \n",
       "0      1812.91              Amazon AWS  \n",
       "1      3618.57              Amazon AWS  \n",
       "2     27600.55              Amazon AWS  \n",
       "0       194.64            OFFICE DEPOT  \n",
       "1      7908.12            OFFICE DEPOT  \n",
       "2     33856.91            OFFICE DEPOT  \n",
       "0    853230.73               Microsoft  \n",
       "1    464806.12               Microsoft  \n",
       "2      6586.33               Microsoft  "
      ]
     },
     "execution_count": 1138,
     "metadata": {},
     "output_type": "execute_result"
    }
   ],
   "source": [
    "# Filterng the top three costcenter who spent the maximum on the top 10 suppliers 2016\n",
    "\n",
    "groupby_column = 'expensetype'\n",
    "transactions_supplier_expensetype_2016 = pd.DataFrame()\n",
    "\n",
    "for supp in list(top_10_suppliers_2016.index):\n",
    "    transactions_2016_expensetype = transactions_2016.loc[transactions_2016['parent_supplier_name'] == supp]\n",
    "    transactions_2016_grouped_expensetype = transactions_2016_expensetype.groupby([groupby_column]).sum()\n",
    "    transactions_2016_grouped_expensetype['total_amount'] = transactions_2016_grouped_expensetype['amount'].apply(lambda x: '{:.2f}'.format(x))\n",
    "    del transactions_2016_grouped_expensetype['amount'] \n",
    "    transactions_2016_grouped_expensetype['supplier_name'] = supp\n",
    "    transactions_2016_grouped_expensetype = transactions_2016_grouped_expensetype.reset_index()\n",
    "    transactions_2016_grouped_expensetype.sort_values(by=('total_amount'))\n",
    "    transactions_supplier_expensetype_2016 = pd.concat([transactions_supplier_expensetype_2016, transactions_2016_grouped_expensetype.head(3)])\n",
    "transactions_supplier_expensetype_2016.to_csv('enterprise_data/transactions_supplier_expensetype_2016.csv')\n",
    "transactions_supplier_expensetype_2016\n"
   ]
  }
 ],
 "metadata": {
  "kernelspec": {
   "display_name": "Python 3",
   "language": "python",
   "name": "python3"
  },
  "language_info": {
   "codemirror_mode": {
    "name": "ipython",
    "version": 3
   },
   "file_extension": ".py",
   "mimetype": "text/x-python",
   "name": "python",
   "nbconvert_exporter": "python",
   "pygments_lexer": "ipython3",
   "version": "3.7.0"
  }
 },
 "nbformat": 4,
 "nbformat_minor": 4
}
